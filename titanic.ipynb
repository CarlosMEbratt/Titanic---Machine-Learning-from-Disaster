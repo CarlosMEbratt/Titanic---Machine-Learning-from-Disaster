{
 "cells": [
  {
   "cell_type": "markdown",
   "metadata": {},
   "source": [
    "## Titanic - Machine Learning from Disaster"
   ]
  },
  {
   "cell_type": "markdown",
   "metadata": {},
   "source": [
    "> This is my \"Project 1\" in the \"Big Data Visualization for Business Communications\" course. I'm planning to use machine learning to create a model that predicts which passengers survived the Titanic shipwreck. This is also a competition in Kaggle so I decided to do it to challenge myself. Let's see how this goes:"
   ]
  },
  {
   "cell_type": "markdown",
   "metadata": {},
   "source": [
    "### Instructions:\n",
    "\n",
    "You are tasked with performing analysis on a regression dataset of your choice from Kaggle. Your goal is to predict a target variable based on a set of features. Follow the steps outlined below to conduct a comprehensive analysis:\n",
    "\n",
    "1. Upload the Dataset: Obtain a regression dataset of your choice from Kaggle and upload it to your working environment.\n",
    "\n",
    "2. Describe the Dataset: Provide a brief overview of the dataset, including the number of observations, features, and a description of each variable.\n",
    "3. Perform Data Wrangling/Encoding: Clean the dataset by handling missing values, duplicates, and outliers. Perform any necessary encoding for categorical variables.\n",
    "3. Define Features and Target Variable: Define the features (independent variables) and the target variable (dependent variable) that you will be using for analysis.\n",
    "4. Perform Basic EDA: Use various visualization techniques such as barcharts, histograms, scatterplots, facetgrid, and boxplots to explore the relationships between variables. Choose any two visualization techniques of your choice.\n",
    "Create Heatmap: Create a heatmap to visualize the correlation between features and the target variable.\n",
    "5. Split the Data into Train and Test Sets: Split the dataset into training and testing sets using a ratio of 80/20 or 70/30. \n",
    "Choose a random state of 0 or 42 for consistency.\n",
    "6. Utilize Standard Scaling: Standardize the features using standard scaling to ensure all variables are on the same scale.\n",
    "7. Perform Linear Regression: Implement linear regression to predict the target variable. Determine the accuracy of the model using appropriate evaluation metrics.\n",
    "8. Upload Submission: Compile your analysis and code into a Jupyter Notebook (.ipynb) or Google Colab. Additionally, create a PDF version of your notebook for submission.\n",
    "9. Upload to GitHub: Upload your Jupyter Notebook and PDF submission to your GitHub repository for version control and sharing.\n",
    "\n",
    "\n",
    "**Finally,** Prepare a presentation to explain your project findings to the class. Include an overview of the dataset, data preprocessing steps, model implementation, evaluation metrics, and key insights.\n"
   ]
  },
  {
   "cell_type": "code",
   "execution_count": null,
   "metadata": {},
   "outputs": [],
   "source": []
  }
 ],
 "metadata": {
  "language_info": {
   "name": "python"
  }
 },
 "nbformat": 4,
 "nbformat_minor": 2
}
